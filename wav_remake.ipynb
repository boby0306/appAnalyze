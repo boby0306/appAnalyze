{
 "nbformat": 4,
 "nbformat_minor": 2,
 "metadata": {
  "language_info": {
   "name": "python",
   "codemirror_mode": {
    "name": "ipython",
    "version": 3
   },
   "version": "3.7.3-final"
  },
  "orig_nbformat": 2,
  "file_extension": ".py",
  "mimetype": "text/x-python",
  "name": "python",
  "npconvert_exporter": "python",
  "pygments_lexer": "ipython3",
  "version": 3,
  "kernelspec": {
   "name": "python3",
   "display_name": "Python 3"
  }
 },
 "cells": [
  {
   "cell_type": "markdown",
   "metadata": {},
   "source": [
    "## scipy.io.readのエラー時にwavを再構成"
   ]
  },
  {
   "cell_type": "code",
   "execution_count": 17,
   "metadata": {},
   "outputs": [
    {
     "output_type": "stream",
     "name": "stdout",
     "text": "../iTest_60.wav\n../NL52_70.wav\n../iTest_94M.wav\n../NL52_94BK.wav\n../iTest_94BK.wav\n../NL52_60.wav\n../NL52_0.wav\n../iTest_70.wav\n../iTest_0.wav\n../NL52_50.wav\n../NL52_45.wav\n../iTest_40.wav\n../iTest_80.wav\n../NL52_80.wav\n../iTest_50.wav\n../NL52_40.wav\n../iTest_45.wav\n../iTest_37.wav\n../NL52_37.wav\n"
    }
   ],
   "source": [
    "import os\n",
    "import re\n",
    "import glob\n",
    "import soundfile as sf\n",
    "from scipy.io.wavfile import write\n",
    "\n",
    "# **でファイルとディレクトリ全て指定\n",
    "# recursive=Trueで探索ディレクトリ内で再度探索実行\n",
    "waves = [p for p in glob.glob('../**') if re.search('.wav', p)]\n",
    "for wav in waves:\n",
    "    data, samplerate = sf.read(wav)\n",
    "    write(wav, 48000, data)\n",
    "    print(wav)"
   ]
  },
  {
   "cell_type": "code",
   "execution_count": null,
   "metadata": {},
   "outputs": [],
   "source": []
  }
 ]
}